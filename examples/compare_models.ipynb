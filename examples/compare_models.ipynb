{
 "cells": [
  {
   "cell_type": "code",
   "execution_count": 1,
   "metadata": {},
   "outputs": [],
   "source": [
    "\"\"\"Model Comparison for Handball Match Prediction\n",
    "Comparison of various Bayesian and frequentist models for sports outcome prediction\n",
    "\"\"\"\n",
    "\n",
    "import numpy as np\n",
    "import pandas as pd\n",
    "\n",
    "from ssat.bayesian import (\n",
    "    NegBinom,\n",
    "    Poisson,\n",
    "    PoissonDecay,\n",
    "    Skellam,\n",
    "    SkellamDecay,\n",
    "    SkellamZero,\n",
    ")\n",
    "from ssat.data import get_sample_handball_match_data\n",
    "from ssat.frequentist import GSSD, PRP, TOOR, ZSD, BradleyTerry\n",
    "from ssat.metrics import (\n",
    "    average_rps,\n",
    "    balanced_accuracy,\n",
    "    calibration_error,\n",
    "    ignorance_score,\n",
    "    multiclass_brier_score,\n",
    "    multiclass_log_loss,\n",
    ")\n",
    "from ssat.utils import dixon_coles_weights\n"
   ]
  },
  {
   "cell_type": "code",
   "execution_count": 2,
   "metadata": {},
   "outputs": [],
   "source": [
    "# Configuration\n",
    "np.random.seed(42)\n",
    "LEAGUE = \"Starligue\"\n",
    "SEASONS = [2024, 2025]\n",
    "TRAIN_SPLIT = 0.8\n"
   ]
  },
  {
   "cell_type": "code",
   "execution_count": 3,
   "metadata": {},
   "outputs": [
    {
     "name": "stdout",
     "output_type": "stream",
     "text": [
      "Available leagues: ['European Championship', 'Kvindeligaen Women', 'Handbollsligan Women', 'Herre Handbold Ligaen', 'Liga ASOBAL', 'Starligue', 'EHF Euro Cup']\n",
      "Dataset size: 258 matches\n"
     ]
    }
   ],
   "source": [
    "# Load and filter data\n",
    "df = get_sample_handball_match_data()\n",
    "print(f\"Available leagues: {list(df.league.unique())}\")\n",
    "\n",
    "match_df = df.loc[(df[\"league\"] == LEAGUE) & (df[\"season\"].isin(SEASONS))]\n",
    "print(f\"Dataset size: {len(match_df)} matches\")\n"
   ]
  },
  {
   "cell_type": "code",
   "execution_count": 4,
   "metadata": {},
   "outputs": [
    {
     "name": "stdout",
     "output_type": "stream",
     "text": [
      "Training set: 206 matches\n",
      "Test set: 52 matches\n"
     ]
    }
   ],
   "source": [
    "# Data preparation\n",
    "goal_diff = match_df[\"home_goals\"] - match_df[\"away_goals\"]\n",
    "outcomes = np.sign(goal_diff).replace(\n",
    "    {-1: 2, 0: 1, 1: 0}\n",
    ")  # 0=Home win, 1=Draw, 2=Away win\n",
    "\n",
    "X = match_df[[\"home_team\", \"away_team\"]]\n",
    "Z = match_df[[\"home_goals\", \"away_goals\"]]\n",
    "y = goal_diff\n",
    "dt = match_df[\"datetime\"]\n",
    "\n",
    "# Train-test split\n",
    "train_size = int(len(match_df) * TRAIN_SPLIT)\n",
    "X_train, X_test = X[:train_size], X[train_size:]\n",
    "y_train, y_test = y[:train_size], y[train_size:]\n",
    "Z_train, Z_test = Z[:train_size], Z[train_size:]\n",
    "dt_train, dt_test = dt[:train_size], dt[train_size:]\n",
    "outcomes_test = outcomes[train_size:]\n",
    "\n",
    "weights_train = dixon_coles_weights(dt_train)\n",
    "\n",
    "print(f\"Training set: {len(X_train)} matches\")\n",
    "print(f\"Test set: {len(X_test)} matches\")\n"
   ]
  },
  {
   "cell_type": "code",
   "execution_count": 5,
   "metadata": {},
   "outputs": [],
   "source": [
    "# Initialize models\n",
    "models = [\n",
    "    (\"Bradley-Terry\", BradleyTerry()),\n",
    "    (\"PRP\", PRP()),\n",
    "    (\"GSSD\", GSSD()),\n",
    "    (\"TOOR\", TOOR()),\n",
    "    (\"ZSD\", ZSD()),\n",
    "    (\"Poisson\", Poisson()),\n",
    "    (\"Negative Binomial\", NegBinom()),\n",
    "    (\"Skellam\", Skellam()),\n",
    "    (\"Skellam Zero\", SkellamZero()),\n",
    "    (\"Skellam Decay\", SkellamDecay()),\n",
    "    (\"Poisson Decay\", PoissonDecay()),\n",
    "]\n"
   ]
  },
  {
   "cell_type": "code",
   "execution_count": 6,
   "metadata": {},
   "outputs": [
    {
     "name": "stdout",
     "output_type": "stream",
     "text": [
      "Training Bradley-Terry...\n",
      "Training PRP...\n",
      "Training GSSD...\n",
      "Training TOOR...\n",
      "Training ZSD...\n",
      "Training Poisson...\n"
     ]
    },
    {
     "data": {
      "application/vnd.jupyter.widget-view+json": {
       "model_id": "082117b2f9af46038a473b4e2ddf1d91",
       "version_major": 2,
       "version_minor": 0
      },
      "text/plain": [
       "chain 1 |          | 00:00 Status"
      ]
     },
     "metadata": {},
     "output_type": "display_data"
    },
    {
     "data": {
      "application/vnd.jupyter.widget-view+json": {
       "model_id": "0a49f7ddd3d24682979ce86d909b5885",
       "version_major": 2,
       "version_minor": 0
      },
      "text/plain": [
       "chain 2 |          | 00:00 Status"
      ]
     },
     "metadata": {},
     "output_type": "display_data"
    },
    {
     "name": "stdout",
     "output_type": "stream",
     "text": [
      "                                                                                                                                                                \n",
      "Training Negative Binomial...\n"
     ]
    },
    {
     "data": {
      "application/vnd.jupyter.widget-view+json": {
       "model_id": "bdcf0908081148989fa389536beb5f44",
       "version_major": 2,
       "version_minor": 0
      },
      "text/plain": [
       "chain 1 |          | 00:00 Status"
      ]
     },
     "metadata": {},
     "output_type": "display_data"
    },
    {
     "data": {
      "application/vnd.jupyter.widget-view+json": {
       "model_id": "15adf2ed14bb41a3b61b880942e39bb7",
       "version_major": 2,
       "version_minor": 0
      },
      "text/plain": [
       "chain 2 |          | 00:00 Status"
      ]
     },
     "metadata": {},
     "output_type": "display_data"
    },
    {
     "name": "stdout",
     "output_type": "stream",
     "text": [
      "                                                                                                                                                                \n",
      "Training Skellam...\n"
     ]
    },
    {
     "data": {
      "application/vnd.jupyter.widget-view+json": {
       "model_id": "3fbc862bbc48433eb709c0832a9b8050",
       "version_major": 2,
       "version_minor": 0
      },
      "text/plain": [
       "chain 1 |          | 00:00 Status"
      ]
     },
     "metadata": {},
     "output_type": "display_data"
    },
    {
     "data": {
      "application/vnd.jupyter.widget-view+json": {
       "model_id": "7188c3010b974461852128c1b43893ab",
       "version_major": 2,
       "version_minor": 0
      },
      "text/plain": [
       "chain 2 |          | 00:00 Status"
      ]
     },
     "metadata": {},
     "output_type": "display_data"
    },
    {
     "name": "stdout",
     "output_type": "stream",
     "text": [
      "                                                                                                                                                                \n",
      "Training Skellam Zero...\n"
     ]
    },
    {
     "data": {
      "application/vnd.jupyter.widget-view+json": {
       "model_id": "aafab81bad5744da9ac51315490f7992",
       "version_major": 2,
       "version_minor": 0
      },
      "text/plain": [
       "chain 1 |          | 00:00 Status"
      ]
     },
     "metadata": {},
     "output_type": "display_data"
    },
    {
     "data": {
      "application/vnd.jupyter.widget-view+json": {
       "model_id": "8fd0391f065245b0b90268ef81d342a2",
       "version_major": 2,
       "version_minor": 0
      },
      "text/plain": [
       "chain 2 |          | 00:00 Status"
      ]
     },
     "metadata": {},
     "output_type": "display_data"
    },
    {
     "name": "stdout",
     "output_type": "stream",
     "text": [
      "                                                                                                                                                                \n",
      "Training Skellam Decay...\n"
     ]
    },
    {
     "data": {
      "application/vnd.jupyter.widget-view+json": {
       "model_id": "ac0de27cfd58482dac96926637802545",
       "version_major": 2,
       "version_minor": 0
      },
      "text/plain": [
       "chain 1 |          | 00:00 Status"
      ]
     },
     "metadata": {},
     "output_type": "display_data"
    },
    {
     "data": {
      "application/vnd.jupyter.widget-view+json": {
       "model_id": "1761c31c01ea4f9fadc4b997c2aa8d2f",
       "version_major": 2,
       "version_minor": 0
      },
      "text/plain": [
       "chain 2 |          | 00:00 Status"
      ]
     },
     "metadata": {},
     "output_type": "display_data"
    },
    {
     "name": "stdout",
     "output_type": "stream",
     "text": [
      "                                                                                                                                                                \n",
      "Training Poisson Decay...\n"
     ]
    },
    {
     "data": {
      "application/vnd.jupyter.widget-view+json": {
       "model_id": "d359df828dbc4e558623dd045749917e",
       "version_major": 2,
       "version_minor": 0
      },
      "text/plain": [
       "chain 1 |          | 00:00 Status"
      ]
     },
     "metadata": {},
     "output_type": "display_data"
    },
    {
     "data": {
      "application/vnd.jupyter.widget-view+json": {
       "model_id": "43ee7c35d31a4bacaed4c0d58797704c",
       "version_major": 2,
       "version_minor": 0
      },
      "text/plain": [
       "chain 2 |          | 00:00 Status"
      ]
     },
     "metadata": {},
     "output_type": "display_data"
    },
    {
     "name": "stdout",
     "output_type": "stream",
     "text": [
      "                                                                                                                                                                \n"
     ]
    }
   ],
   "source": [
    "# Model evaluation\n",
    "results = []\n",
    "\n",
    "for name, model in models:\n",
    "    print(f\"Training {name}...\")\n",
    "\n",
    "    try:\n",
    "        model.fit(X=X_train, y=y_train, Z=Z_train, weights=weights_train)\n",
    "    except (\n",
    "        Exception\n",
    "    ):  # Poisson and Negative Binomial fits on home and away goals separately\n",
    "        model.fit(X=X_train, y=Z_train, Z=Z_train, weights=weights_train)\n",
    "\n",
    "    preds_proba = model.predict_proba(X_test)\n",
    "\n",
    "    # Calculate metrics\n",
    "    metrics = {\n",
    "        \"Model\": name,\n",
    "        \"Brier Score\": multiclass_brier_score(outcomes_test, preds_proba),\n",
    "        \"Log Loss\": multiclass_log_loss(outcomes_test, preds_proba),\n",
    "        \"RPS\": average_rps(outcomes_test, preds_proba),\n",
    "        \"Calibration Error\": calibration_error(outcomes_test, preds_proba),\n",
    "        \"Ignorance Score\": ignorance_score(outcomes_test, preds_proba),\n",
    "        \"Balanced Accuracy\": balanced_accuracy(outcomes_test, preds_proba),\n",
    "    }\n",
    "    results.append(metrics)\n"
   ]
  },
  {
   "cell_type": "code",
   "execution_count": 7,
   "metadata": {},
   "outputs": [
    {
     "name": "stdout",
     "output_type": "stream",
     "text": [
      "\n",
      "Model Performance Comparison:\n",
      "==================================================\n"
     ]
    },
    {
     "data": {
      "application/vnd.microsoft.datawrangler.viewer.v0+json": {
       "columns": [
        {
         "name": "Model",
         "rawType": "object",
         "type": "string"
        },
        {
         "name": "Brier Score",
         "rawType": "float64",
         "type": "float"
        },
        {
         "name": "Log Loss",
         "rawType": "float64",
         "type": "float"
        },
        {
         "name": "RPS",
         "rawType": "float64",
         "type": "float"
        },
        {
         "name": "Calibration Error",
         "rawType": "float64",
         "type": "float"
        },
        {
         "name": "Ignorance Score",
         "rawType": "float64",
         "type": "float"
        },
        {
         "name": "Balanced Accuracy",
         "rawType": "float64",
         "type": "float"
        }
       ],
       "ref": "7b46660d-3a28-4811-b950-f67874c9713d",
       "rows": [
        [
         "Bradley-Terry",
         "0.155",
         "0.79",
         "0.1885",
         "0.1503",
         "1.1397",
         "0.4882"
        ],
        [
         "PRP",
         "0.1542",
         "0.7802",
         "0.1872",
         "0.0821",
         "1.1256",
         "0.449"
        ],
        [
         "GSSD",
         "0.165",
         "0.8257",
         "0.2027",
         "0.1141",
         "1.1913",
         "0.4268"
        ],
        [
         "TOOR",
         "0.1523",
         "0.7733",
         "0.1845",
         "0.1146",
         "1.1156",
         "0.4993"
        ],
        [
         "ZSD",
         "0.1541",
         "0.7801",
         "0.1869",
         "0.0947",
         "1.1254",
         "0.4379"
        ],
        [
         "Poisson",
         "0.1593",
         "0.8379",
         "0.1944",
         "0.1099",
         "1.2089",
         "0.4601"
        ],
        [
         "Negative Binomial",
         "0.1663",
         "0.883",
         "0.2042",
         "0.0854",
         "1.2739",
         "0.4797"
        ],
        [
         "Skellam",
         "0.1542",
         "0.7751",
         "0.186",
         "0.1819",
         "1.1183",
         "0.4797"
        ],
        [
         "Skellam Zero",
         "0.1547",
         "0.7776",
         "0.1867",
         "0.2011",
         "1.1219",
         "0.4797"
        ],
        [
         "Skellam Decay",
         "0.1571",
         "0.7864",
         "0.1903",
         "0.2004",
         "1.1345",
         "0.4686"
        ],
        [
         "Poisson Decay",
         "0.1606",
         "0.844",
         "0.1962",
         "0.1097",
         "1.2177",
         "0.449"
        ]
       ],
       "shape": {
        "columns": 6,
        "rows": 11
       }
      },
      "text/html": [
       "<div>\n",
       "<style scoped>\n",
       "    .dataframe tbody tr th:only-of-type {\n",
       "        vertical-align: middle;\n",
       "    }\n",
       "\n",
       "    .dataframe tbody tr th {\n",
       "        vertical-align: top;\n",
       "    }\n",
       "\n",
       "    .dataframe thead th {\n",
       "        text-align: right;\n",
       "    }\n",
       "</style>\n",
       "<table border=\"1\" class=\"dataframe\">\n",
       "  <thead>\n",
       "    <tr style=\"text-align: right;\">\n",
       "      <th></th>\n",
       "      <th>Brier Score</th>\n",
       "      <th>Log Loss</th>\n",
       "      <th>RPS</th>\n",
       "      <th>Calibration Error</th>\n",
       "      <th>Ignorance Score</th>\n",
       "      <th>Balanced Accuracy</th>\n",
       "    </tr>\n",
       "    <tr>\n",
       "      <th>Model</th>\n",
       "      <th></th>\n",
       "      <th></th>\n",
       "      <th></th>\n",
       "      <th></th>\n",
       "      <th></th>\n",
       "      <th></th>\n",
       "    </tr>\n",
       "  </thead>\n",
       "  <tbody>\n",
       "    <tr>\n",
       "      <th>Bradley-Terry</th>\n",
       "      <td>0.1550</td>\n",
       "      <td>0.7900</td>\n",
       "      <td>0.1885</td>\n",
       "      <td>0.1503</td>\n",
       "      <td>1.1397</td>\n",
       "      <td>0.4882</td>\n",
       "    </tr>\n",
       "    <tr>\n",
       "      <th>PRP</th>\n",
       "      <td>0.1542</td>\n",
       "      <td>0.7802</td>\n",
       "      <td>0.1872</td>\n",
       "      <td>0.0821</td>\n",
       "      <td>1.1256</td>\n",
       "      <td>0.4490</td>\n",
       "    </tr>\n",
       "    <tr>\n",
       "      <th>GSSD</th>\n",
       "      <td>0.1650</td>\n",
       "      <td>0.8257</td>\n",
       "      <td>0.2027</td>\n",
       "      <td>0.1141</td>\n",
       "      <td>1.1913</td>\n",
       "      <td>0.4268</td>\n",
       "    </tr>\n",
       "    <tr>\n",
       "      <th>TOOR</th>\n",
       "      <td>0.1523</td>\n",
       "      <td>0.7733</td>\n",
       "      <td>0.1845</td>\n",
       "      <td>0.1146</td>\n",
       "      <td>1.1156</td>\n",
       "      <td>0.4993</td>\n",
       "    </tr>\n",
       "    <tr>\n",
       "      <th>ZSD</th>\n",
       "      <td>0.1541</td>\n",
       "      <td>0.7801</td>\n",
       "      <td>0.1869</td>\n",
       "      <td>0.0947</td>\n",
       "      <td>1.1254</td>\n",
       "      <td>0.4379</td>\n",
       "    </tr>\n",
       "    <tr>\n",
       "      <th>Poisson</th>\n",
       "      <td>0.1593</td>\n",
       "      <td>0.8379</td>\n",
       "      <td>0.1944</td>\n",
       "      <td>0.1099</td>\n",
       "      <td>1.2089</td>\n",
       "      <td>0.4601</td>\n",
       "    </tr>\n",
       "    <tr>\n",
       "      <th>Negative Binomial</th>\n",
       "      <td>0.1663</td>\n",
       "      <td>0.8830</td>\n",
       "      <td>0.2042</td>\n",
       "      <td>0.0854</td>\n",
       "      <td>1.2739</td>\n",
       "      <td>0.4797</td>\n",
       "    </tr>\n",
       "    <tr>\n",
       "      <th>Skellam</th>\n",
       "      <td>0.1542</td>\n",
       "      <td>0.7751</td>\n",
       "      <td>0.1860</td>\n",
       "      <td>0.1819</td>\n",
       "      <td>1.1183</td>\n",
       "      <td>0.4797</td>\n",
       "    </tr>\n",
       "    <tr>\n",
       "      <th>Skellam Zero</th>\n",
       "      <td>0.1547</td>\n",
       "      <td>0.7776</td>\n",
       "      <td>0.1867</td>\n",
       "      <td>0.2011</td>\n",
       "      <td>1.1219</td>\n",
       "      <td>0.4797</td>\n",
       "    </tr>\n",
       "    <tr>\n",
       "      <th>Skellam Decay</th>\n",
       "      <td>0.1571</td>\n",
       "      <td>0.7864</td>\n",
       "      <td>0.1903</td>\n",
       "      <td>0.2004</td>\n",
       "      <td>1.1345</td>\n",
       "      <td>0.4686</td>\n",
       "    </tr>\n",
       "    <tr>\n",
       "      <th>Poisson Decay</th>\n",
       "      <td>0.1606</td>\n",
       "      <td>0.8440</td>\n",
       "      <td>0.1962</td>\n",
       "      <td>0.1097</td>\n",
       "      <td>1.2177</td>\n",
       "      <td>0.4490</td>\n",
       "    </tr>\n",
       "  </tbody>\n",
       "</table>\n",
       "</div>"
      ],
      "text/plain": [
       "                   Brier Score  Log Loss     RPS  Calibration Error  \\\n",
       "Model                                                                 \n",
       "Bradley-Terry           0.1550    0.7900  0.1885             0.1503   \n",
       "PRP                     0.1542    0.7802  0.1872             0.0821   \n",
       "GSSD                    0.1650    0.8257  0.2027             0.1141   \n",
       "TOOR                    0.1523    0.7733  0.1845             0.1146   \n",
       "ZSD                     0.1541    0.7801  0.1869             0.0947   \n",
       "Poisson                 0.1593    0.8379  0.1944             0.1099   \n",
       "Negative Binomial       0.1663    0.8830  0.2042             0.0854   \n",
       "Skellam                 0.1542    0.7751  0.1860             0.1819   \n",
       "Skellam Zero            0.1547    0.7776  0.1867             0.2011   \n",
       "Skellam Decay           0.1571    0.7864  0.1903             0.2004   \n",
       "Poisson Decay           0.1606    0.8440  0.1962             0.1097   \n",
       "\n",
       "                   Ignorance Score  Balanced Accuracy  \n",
       "Model                                                  \n",
       "Bradley-Terry               1.1397             0.4882  \n",
       "PRP                         1.1256             0.4490  \n",
       "GSSD                        1.1913             0.4268  \n",
       "TOOR                        1.1156             0.4993  \n",
       "ZSD                         1.1254             0.4379  \n",
       "Poisson                     1.2089             0.4601  \n",
       "Negative Binomial           1.2739             0.4797  \n",
       "Skellam                     1.1183             0.4797  \n",
       "Skellam Zero                1.1219             0.4797  \n",
       "Skellam Decay               1.1345             0.4686  \n",
       "Poisson Decay               1.2177             0.4490  "
      ]
     },
     "execution_count": 7,
     "metadata": {},
     "output_type": "execute_result"
    }
   ],
   "source": [
    "# Display results\n",
    "results_df = pd.DataFrame(results).set_index(\"Model\")\n",
    "print(\"\\nModel Performance Comparison:\")\n",
    "print(\"=\" * 50)\n",
    "results_df.round(4)\n"
   ]
  },
  {
   "cell_type": "code",
   "execution_count": 8,
   "metadata": {},
   "outputs": [
    {
     "name": "stdout",
     "output_type": "stream",
     "text": [
      "\n",
      "Top 3 Models by Metric:\n",
      "==============================\n",
      "\n",
      "Brier Score:\n",
      "  1. TOOR: 0.1523\n",
      "  2. ZSD: 0.1541\n",
      "  3. Skellam: 0.1542\n",
      "\n",
      "Log Loss:\n",
      "  1. TOOR: 0.7733\n",
      "  2. Skellam: 0.7751\n",
      "  3. Skellam Zero: 0.7776\n",
      "\n",
      "RPS:\n",
      "  1. TOOR: 0.1845\n",
      "  2. Skellam: 0.1860\n",
      "  3. Skellam Zero: 0.1867\n",
      "\n",
      "Calibration Error:\n",
      "  1. PRP: 0.0821\n",
      "  2. Negative Binomial: 0.0854\n",
      "  3. ZSD: 0.0947\n",
      "\n",
      "Ignorance Score:\n",
      "  1. TOOR: 1.1156\n",
      "  2. Skellam: 1.1183\n",
      "  3. Skellam Zero: 1.1219\n",
      "\n",
      "Balanced Accuracy:\n",
      "  1. TOOR: 0.4993\n",
      "  2. Bradley-Terry: 0.4882\n",
      "  3. Negative Binomial: 0.4797\n"
     ]
    }
   ],
   "source": [
    "# Performance ranking (lower is better for most metrics, higher for accuracy)\n",
    "ranking_metrics = [\n",
    "    \"Brier Score\",\n",
    "    \"Log Loss\",\n",
    "    \"RPS\",\n",
    "    \"Calibration Error\",\n",
    "    \"Ignorance Score\",\n",
    "]\n",
    "accuracy_metrics = [\"Balanced Accuracy\"]\n",
    "\n",
    "print(\"\\nTop 3 Models by Metric:\")\n",
    "print(\"=\" * 30)\n",
    "\n",
    "for metric in ranking_metrics:\n",
    "    top_3 = results_df[metric].nsmallest(3)\n",
    "    print(f\"\\n{metric}:\")\n",
    "    for i, (model, score) in enumerate(top_3.items(), 1):\n",
    "        print(f\"  {i}. {model}: {score:.4f}\")\n",
    "\n",
    "for metric in accuracy_metrics:\n",
    "    top_3 = results_df[metric].nlargest(3)\n",
    "    print(f\"\\n{metric}:\")\n",
    "    for i, (model, score) in enumerate(top_3.items(), 1):\n",
    "        print(f\"  {i}. {model}: {score:.4f}\")\n"
   ]
  }
 ],
 "metadata": {
  "kernelspec": {
   "display_name": "ssmp",
   "language": "python",
   "name": "python3"
  },
  "language_info": {
   "codemirror_mode": {
    "name": "ipython",
    "version": 3
   },
   "file_extension": ".py",
   "mimetype": "text/x-python",
   "name": "python",
   "nbconvert_exporter": "python",
   "pygments_lexer": "ipython3",
   "version": "3.13.1"
  }
 },
 "nbformat": 4,
 "nbformat_minor": 2
}
